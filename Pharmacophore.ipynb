{
 "cells": [
  {
   "cell_type": "code",
   "execution_count": 1,
   "metadata": {},
   "outputs": [
    {
     "name": "stderr",
     "output_type": "stream",
     "text": [
      "'pip' is not recognized as an internal or external command,\n",
      "operable program or batch file.\n",
      "'pip' is not recognized as an internal or external command,\n",
      "operable program or batch file.\n"
     ]
    }
   ],
   "source": [
    "!pip install rdkit\n",
    "!pip install mordred"
   ]
  },
  {
   "cell_type": "code",
   "execution_count": 6,
   "metadata": {},
   "outputs": [],
   "source": [
    "from rdkit import Chem, DataStructs\n",
    "from rdkit.ML.Cluster import Butina\n",
    "from rdkit.Chem import AllChem\n",
    "from rdkit.Chem.Pharm2D import Generate\n",
    "from rdkit.Chem.Pharm2D.SigFactory import SigFactory\n",
    "from rdkit import Chem\n",
    "from rdkit.Chem import ChemicalFeatures\n",
    "from rdkit.Chem.Pharm2D.SigFactory import SigFactory\n",
    "from rdkit.Chem.Pharm2D import Generate\n",
    "import pandas as pd\n",
    "from rdkit import Chem\n",
    "from rdkit.Chem import ChemicalFeatures\n",
    "from rdkit import DataStructs\n",
    "import pandas as pd\n",
    "import seaborn as sns\n",
    "import matplotlib.pyplot as plt"
   ]
  },
  {
   "cell_type": "code",
   "execution_count": 4,
   "metadata": {},
   "outputs": [],
   "source": [
    "fdefName = 'MinimalFeatures.fdef'\n",
    "featFactory = ChemicalFeatures.BuildFeatureFactory(fdefName)\n",
    "sigFactory = SigFactory(featFactory, minPointCount=2, maxPointCount=3, trianglePruneBins=False)\n",
    "sigFactory.SetBins([(0, 2), (2, 5), (5, 8)])\n",
    "sigFactory.Init()"
   ]
  },
  {
   "cell_type": "code",
   "execution_count": 5,
   "metadata": {},
   "outputs": [],
   "source": [
    "def calc_tanimoto(fp1, fp2):\n",
    "    tc = DataStructs.TanimotoSimilarity(fp1, fp2)\n",
    "    return round(tc,2)"
   ]
  },
  {
   "cell_type": "code",
   "execution_count": null,
   "metadata": {},
   "outputs": [],
   "source": [
    "train = pd.read_csv('TrainQSAR.csv')\n",
    "test= pd.read_csv('TestQSAR.csv')"
   ]
  },
  {
   "cell_type": "code",
   "execution_count": null,
   "metadata": {},
   "outputs": [],
   "source": [
    "for index, row in train.iterrows():\n",
    "    smiles = row['SMILES']\n",
    "    mol = Chem.MolFromSmiles(smiles)\n",
    "    fp = Generate.Gen2DFingerprint(mol,sigFactory)\n",
    "    train.at[index, 'fp'] = fp"
   ]
  },
  {
   "cell_type": "code",
   "execution_count": null,
   "metadata": {},
   "outputs": [],
   "source": [
    "for indexs, rows in test.iterrows():\n",
    "    smiless = rows['SMILES']\n",
    "    mols = Chem.MolFromSmiles(smiless)\n",
    "    fps = Generate.Gen2DFingerprint(mols,sigFactory)\n",
    "    test.at[indexs, 'fp'] = fps"
   ]
  },
  {
   "cell_type": "code",
   "execution_count": null,
   "metadata": {},
   "outputs": [],
   "source": [
    "import numpy as np\n",
    "y = train['fp']\n",
    "Y = pd.DataFrame(y)\n",
    "x = test['fp']\n",
    "X = pd.DataFrame(x)\n",
    "# Create an empty matrix to store the Tanimoto coefficients\n",
    "matrix = np.zeros((len(X), len(Y)))\n",
    "\n",
    "for i, row_x in X.iterrows():\n",
    "    smiles_x = row_x['fp']\n",
    "    for j, row_y in Y.iterrows():\n",
    "        smiles_y = row_y['fp']\n",
    "        coefficient = calc_tanimoto(smiles_x, smiles_y)\n",
    "        matrix[i, j] = coefficient"
   ]
  },
  {
   "cell_type": "code",
   "execution_count": null,
   "metadata": {},
   "outputs": [],
   "source": [
    "matrix_df = pd.DataFrame(matrix)\n",
    "plt.figure(figsize=(8, 6))  \n",
    "sns.heatmap(matrix_df, cmap='YlOrRd')\n",
    "plt.show()"
   ]
  }
 ],
 "metadata": {
  "kernelspec": {
   "display_name": "Python 3",
   "language": "python",
   "name": "python3"
  },
  "language_info": {
   "codemirror_mode": {
    "name": "ipython",
    "version": 3
   },
   "file_extension": ".py",
   "mimetype": "text/x-python",
   "name": "python",
   "nbconvert_exporter": "python",
   "pygments_lexer": "ipython3",
   "version": "3.11.5"
  },
  "orig_nbformat": 4
 },
 "nbformat": 4,
 "nbformat_minor": 2
}
